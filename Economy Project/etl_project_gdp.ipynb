{
 "cells": [
  {
   "cell_type": "code",
   "execution_count": 3,
   "id": "eab03530-3933-461e-bc81-25e96f59a18f",
   "metadata": {},
   "outputs": [
    {
     "data": {
      "text/plain": [
       "' Here, you define the required entities and call the relevant \\nfunctions in the correct order to complete the project. Note that this\\nportion is not inside any function.'"
      ]
     },
     "execution_count": 3,
     "metadata": {},
     "output_type": "execute_result"
    }
   ],
   "source": [
    "# Code for ETL operations on Country-GDP data\n",
    "\n",
    "# Importing the required libraries\n",
    "import requests\n",
    "import pandas as pd\n",
    "from datetime import datetime\n",
    "from bs4 import BeautifulSoup\n",
    "import numpy as np\n",
    "import sqlite3\n",
    "\n",
    "\n",
    "\n",
    "\n",
    "\n",
    "url = 'https://web.archive.org/web/20230902185326/https://en.wikipedia.org/wiki/List_of_countries_by_GDP_%28nominal%29'\n",
    "table_attribs = [\"Country\", \"GDP_USD_millions\"]\n",
    "db_name = \"World_Economies_1.db\"\n",
    "table_name = \"Countries_by_GDP_1\"\n",
    "csv_path = \"Countries_by_GDP_1.csv\"\n",
    "\n",
    "\n",
    "\n",
    "def extract(url, table_attribs):\n",
    "    ''' This function extracts the required\n",
    "    information from the website and saves it to a dataframe. The\n",
    "    function returns the dataframe for further processing. '''\n",
    "    page = requests.get(url).text\n",
    "    data = BeautifulSoup(page,'html.parser')\n",
    "    df = pd.DataFrame(columns=table_attribs)\n",
    "    tables = data.find_all('tbody')\n",
    "    rows = tables[2].find_all('tr')\n",
    "    for row in rows:\n",
    "        col = row.find_all('td')\n",
    "        if len(col)!=0:\n",
    "            if col[0].find('a') is not None and '—' not in col[2]:\n",
    "                data_dict = {\"Country\": col[0].a.contents[0],\n",
    "                             \"GDP_USD_millions\": col[2].contents[0]}\n",
    "                df1 = pd.DataFrame(data_dict, index=[0])\n",
    "                df = pd.concat([df,df1], ignore_index=True)\n",
    "    return df\n",
    "\n",
    "def transform(df):\n",
    "    ''' This function converts the GDP information from Currency\n",
    "    format to float value, transforms the information of GDP from\n",
    "    USD (Millions) to USD (Billions) rounding to 2 decimal places.\n",
    "    The function returns the transformed dataframe.'''\n",
    "\n",
    "    return df\n",
    "\n",
    "def load_to_csv(df, csv_path):\n",
    "    ''' This function saves the final dataframe as a `CSV` file \n",
    "    in the provided path. Function returns nothing.'''\n",
    "\n",
    "def load_to_db(df, sql_connection, table_name):\n",
    "    ''' This function saves the final dataframe as a database table\n",
    "    with the provided name. Function returns nothing.'''\n",
    "\n",
    "def run_query(query_statement, sql_connection):\n",
    "    ''' This function runs the stated query on the database table and\n",
    "    prints the output on the terminal. Function returns nothing. '''\n",
    "\n",
    "def log_progress(message):\n",
    "    ''' This function logs the mentioned message at a given stage of the code execution to a log file. Function returns nothing'''\n",
    "\n",
    "''' Here, you define the required entities and call the relevant \n",
    "functions in the correct order to complete the project. Note that this\n",
    "portion is not inside any function.'''"
   ]
  },
  {
   "cell_type": "code",
   "execution_count": 6,
   "id": "f84b4085-fd95-433b-85e4-2695748a59b8",
   "metadata": {},
   "outputs": [
    {
     "data": {
      "text/plain": [
       "[<td style=\"text-align:left\"><span class=\"flagicon\" style=\"display:inline-block;width:25px;text-align:left\"><span class=\"mw-image-border\" typeof=\"mw:File\"><span><img alt=\"\" class=\"mw-file-element\" data-file-height=\"600\" data-file-width=\"1200\" decoding=\"async\" height=\"12\" src=\"//web.archive.org/web/20230902185326im_/https://upload.wikimedia.org/wikipedia/commons/thumb/3/38/Flag_of_Tuvalu.svg/23px-Flag_of_Tuvalu.svg.png\" srcset=\"//web.archive.org/web/20230902185326im_/https://upload.wikimedia.org/wikipedia/commons/thumb/3/38/Flag_of_Tuvalu.svg/35px-Flag_of_Tuvalu.svg.png 1.5x, //web.archive.org/web/20230902185326im_/https://upload.wikimedia.org/wikipedia/commons/thumb/3/38/Flag_of_Tuvalu.svg/46px-Flag_of_Tuvalu.svg.png 2x\" width=\"23\"/></span></span></span> <a href=\"/web/20230902185326/https://en.wikipedia.org/wiki/Economy_of_Tuvalu\" title=\"Economy of Tuvalu\">Tuvalu</a></td>,\n",
       " <td style=\"text-align:center\"><a href=\"/web/20230902185326/https://en.wikipedia.org/wiki/Oceania\" title=\"Oceania\">Oceania</a></td>,\n",
       " <td>65</td>,\n",
       " <td>2023</td>,\n",
       " <td>60</td>,\n",
       " <td>2022</td>,\n",
       " <td>60</td>,\n",
       " <td>2021\n",
       " </td>]"
      ]
     },
     "execution_count": 6,
     "metadata": {},
     "output_type": "execute_result"
    }
   ],
   "source": [
    "url = 'https://web.archive.org/web/20230902185326/https://en.wikipedia.org/wiki/List_of_countries_by_GDP_%28nominal%29'\n",
    "table_attribs = [\"Country\", \"GDP_USD_millions\"]\n",
    "db_name = \"World_Economies_1.db\"\n",
    "table_name = \"Countries_by_GDP_1\"\n",
    "csv_path = \"Countries_by_GDP_1.csv\"\n",
    "\n",
    "\n",
    "page = requests.get(url).text\n",
    "data = BeautifulSoup(page,'html.parser')\n",
    "df = pd.DataFrame(columns=table_attribs)\n",
    "tables = data.find_all('tbody')\n",
    "rows = tables[2].find_all('tr')\n",
    "rows\n",
    "for row in rows:\n",
    "    col = row.find_all('td')\n",
    "    if len(col)!=0:\n",
    "        if col[0].find('a') is not None and '—' not in col[2]:\n",
    "#             data_dict = {\"Country\": col[0].a.contents[0],\n",
    "#                          \"GDP_USD_millions\": col[2].contents[0]}\n",
    "#             df1 = pd.DataFrame(data_dict, index=[0])\n",
    "#             df = pd.concat([df,df1], ignore_index=True)\n",
    "col"
   ]
  }
 ],
 "metadata": {
  "kernelspec": {
   "display_name": "Python 3 (ipykernel)",
   "language": "python",
   "name": "python3"
  },
  "language_info": {
   "codemirror_mode": {
    "name": "ipython",
    "version": 3
   },
   "file_extension": ".py",
   "mimetype": "text/x-python",
   "name": "python",
   "nbconvert_exporter": "python",
   "pygments_lexer": "ipython3",
   "version": "3.10.7"
  }
 },
 "nbformat": 4,
 "nbformat_minor": 5
}
